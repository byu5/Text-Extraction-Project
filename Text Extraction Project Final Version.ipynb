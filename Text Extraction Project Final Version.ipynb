{
 "cells": [
  {
   "cell_type": "markdown",
   "metadata": {},
   "source": [
    "Install python-docx"
   ]
  },
  {
   "cell_type": "code",
   "execution_count": 1,
   "metadata": {},
   "outputs": [
    {
     "name": "stdout",
     "output_type": "stream",
     "text": [
      "Requirement already satisfied: python-docx in /Users/gaowenhuang/opt/anaconda3/lib/python3.8/site-packages (0.8.11)\n",
      "Requirement already satisfied: lxml>=2.3.2 in /Users/gaowenhuang/opt/anaconda3/lib/python3.8/site-packages (from python-docx) (4.6.3)\n",
      "Requirement already satisfied: openpyxl in /Users/gaowenhuang/opt/anaconda3/lib/python3.8/site-packages (3.0.7)\n",
      "Requirement already satisfied: et-xmlfile in /Users/gaowenhuang/opt/anaconda3/lib/python3.8/site-packages (from openpyxl) (1.1.0)\n"
     ]
    }
   ],
   "source": [
    "!pip install python-docx\n",
    "!pip install openpyxl"
   ]
  },
  {
   "cell_type": "markdown",
   "metadata": {},
   "source": [
    "Load the libraries into the Python Requirement"
   ]
  },
  {
   "cell_type": "code",
   "execution_count": 2,
   "metadata": {},
   "outputs": [],
   "source": [
    "from docx import Document\n",
    "import os\n",
    "import warnings\n",
    "warnings.filterwarnings('ignore')\n",
    "import numpy as np \n",
    "import pandas as pd "
   ]
  },
  {
   "cell_type": "code",
   "execution_count": 3,
   "metadata": {},
   "outputs": [
    {
     "data": {
      "text/html": [
       "<div>\n",
       "<style scoped>\n",
       "    .dataframe tbody tr th:only-of-type {\n",
       "        vertical-align: middle;\n",
       "    }\n",
       "\n",
       "    .dataframe tbody tr th {\n",
       "        vertical-align: top;\n",
       "    }\n",
       "\n",
       "    .dataframe thead th {\n",
       "        text-align: right;\n",
       "    }\n",
       "</style>\n",
       "<table border=\"1\" class=\"dataframe\">\n",
       "  <thead>\n",
       "    <tr style=\"text-align: right;\">\n",
       "      <th></th>\n",
       "      <th>Indicator</th>\n",
       "      <th>Sender email</th>\n",
       "      <th>Sender_name</th>\n",
       "      <th>Sender_agency</th>\n",
       "      <th>File name</th>\n",
       "    </tr>\n",
       "  </thead>\n",
       "  <tbody>\n",
       "    <tr>\n",
       "      <th>2</th>\n",
       "      <td>1.1.1 Proportion of the population living belo...</td>\n",
       "      <td>kapsos@ilo.org</td>\n",
       "      <td>Steven Kapsos</td>\n",
       "      <td>ILO</td>\n",
       "      <td>None</td>\n",
       "    </tr>\n",
       "    <tr>\n",
       "      <th>5</th>\n",
       "      <td>1.1.1 Proportion of the population living belo...</td>\n",
       "      <td>userajuddin@worldbank.org</td>\n",
       "      <td>Umar Serajuddin</td>\n",
       "      <td>World Bank</td>\n",
       "      <td>s_1.1.1_World Bank_2021.04.16_rev.docx</td>\n",
       "    </tr>\n",
       "    <tr>\n",
       "      <th>8</th>\n",
       "      <td>1.2.1 Proportion of population living below th...</td>\n",
       "      <td>dmahler@worldbank.org</td>\n",
       "      <td>Daniel Mahler</td>\n",
       "      <td>World Bank</td>\n",
       "      <td>s_1.2.1_World Bank_2021.04.16_rev.docx</td>\n",
       "    </tr>\n",
       "    <tr>\n",
       "      <th>11</th>\n",
       "      <td>1.2.2 Proportion of men, women and children of...</td>\n",
       "      <td>None</td>\n",
       "      <td>None</td>\n",
       "      <td>None</td>\n",
       "      <td>None</td>\n",
       "    </tr>\n",
       "    <tr>\n",
       "      <th>14</th>\n",
       "      <td>1.3.1 Proportion of population covered by soci...</td>\n",
       "      <td>kapsos@ilo.org</td>\n",
       "      <td>Steven Kapsos</td>\n",
       "      <td>ILO</td>\n",
       "      <td>s_1.3.1_ILO_2021.04.16_rev.docx</td>\n",
       "    </tr>\n",
       "    <tr>\n",
       "      <th>...</th>\n",
       "      <td>...</td>\n",
       "      <td>...</td>\n",
       "      <td>...</td>\n",
       "      <td>...</td>\n",
       "      <td>...</td>\n",
       "    </tr>\n",
       "    <tr>\n",
       "      <th>742</th>\n",
       "      <td>17.18.1 Statistical capacity indicator for Sus...</td>\n",
       "      <td>None</td>\n",
       "      <td>None</td>\n",
       "      <td>None</td>\n",
       "      <td>None</td>\n",
       "    </tr>\n",
       "    <tr>\n",
       "      <th>745</th>\n",
       "      <td>17.18.2 Number of countries that have national...</td>\n",
       "      <td>Yu.TIAN@oecd.org</td>\n",
       "      <td>Yu Tian</td>\n",
       "      <td>PARIS21</td>\n",
       "      <td>s_17.18.2_PARIS21_2021.03.11.docx</td>\n",
       "    </tr>\n",
       "    <tr>\n",
       "      <th>748</th>\n",
       "      <td>17.18.3 Number of countries with a national st...</td>\n",
       "      <td>Yu.TIAN@oecd.org</td>\n",
       "      <td>Yu Tian</td>\n",
       "      <td>PARIS21</td>\n",
       "      <td>s_17.18.3_PARIS21_2021.03.11.docx</td>\n",
       "    </tr>\n",
       "    <tr>\n",
       "      <th>751</th>\n",
       "      <td>17.19.1 Dollar value of all resources made ava...</td>\n",
       "      <td>Yu.TIAN@oecd.org</td>\n",
       "      <td>Yu Tian</td>\n",
       "      <td>PARIS21</td>\n",
       "      <td>s_17.19.1_PARIS21_2021.03.11.docx</td>\n",
       "    </tr>\n",
       "    <tr>\n",
       "      <th>754</th>\n",
       "      <td>17.19.2 Proportion of countries that (a) have ...</td>\n",
       "      <td>skenderi@un.org</td>\n",
       "      <td>Adriana Skenderi</td>\n",
       "      <td>DESA_UNSD</td>\n",
       "      <td>s_17.19.2b_DESA_UNSD_2021.04.01.docx</td>\n",
       "    </tr>\n",
       "  </tbody>\n",
       "</table>\n",
       "<p>248 rows × 5 columns</p>\n",
       "</div>"
      ],
      "text/plain": [
       "                                             Indicator  \\\n",
       "2    1.1.1 Proportion of the population living belo...   \n",
       "5    1.1.1 Proportion of the population living belo...   \n",
       "8    1.2.1 Proportion of population living below th...   \n",
       "11   1.2.2 Proportion of men, women and children of...   \n",
       "14   1.3.1 Proportion of population covered by soci...   \n",
       "..                                                 ...   \n",
       "742  17.18.1 Statistical capacity indicator for Sus...   \n",
       "745  17.18.2 Number of countries that have national...   \n",
       "748  17.18.3 Number of countries with a national st...   \n",
       "751  17.19.1 Dollar value of all resources made ava...   \n",
       "754  17.19.2 Proportion of countries that (a) have ...   \n",
       "\n",
       "                  Sender email       Sender_name Sender_agency  \\\n",
       "2               kapsos@ilo.org     Steven Kapsos           ILO   \n",
       "5    userajuddin@worldbank.org   Umar Serajuddin    World Bank   \n",
       "8        dmahler@worldbank.org     Daniel Mahler    World Bank   \n",
       "11                        None              None          None   \n",
       "14              kapsos@ilo.org     Steven Kapsos           ILO   \n",
       "..                         ...               ...           ...   \n",
       "742                       None              None          None   \n",
       "745           Yu.TIAN@oecd.org           Yu Tian       PARIS21   \n",
       "748           Yu.TIAN@oecd.org           Yu Tian       PARIS21   \n",
       "751           Yu.TIAN@oecd.org           Yu Tian       PARIS21   \n",
       "754            skenderi@un.org  Adriana Skenderi     DESA_UNSD   \n",
       "\n",
       "                                  File name  \n",
       "2                                      None  \n",
       "5    s_1.1.1_World Bank_2021.04.16_rev.docx  \n",
       "8    s_1.2.1_World Bank_2021.04.16_rev.docx  \n",
       "11                                     None  \n",
       "14          s_1.3.1_ILO_2021.04.16_rev.docx  \n",
       "..                                      ...  \n",
       "742                                    None  \n",
       "745       s_17.18.2_PARIS21_2021.03.11.docx  \n",
       "748       s_17.18.3_PARIS21_2021.03.11.docx  \n",
       "751       s_17.19.1_PARIS21_2021.03.11.docx  \n",
       "754    s_17.19.2b_DESA_UNSD_2021.04.01.docx  \n",
       "\n",
       "[248 rows x 5 columns]"
      ]
     },
     "execution_count": 3,
     "metadata": {},
     "output_type": "execute_result"
    }
   ],
   "source": [
    "# Load the dataset \n",
    "import openpyxl\n",
    "import pandas as pd\n",
    "\n",
    "wb = openpyxl.load_workbook('SDG Reports 2021_Tracking log.xlsx', data_only=True)\n",
    "sheet = wb.worksheets[1]\n",
    "\n",
    "dat = pd.DataFrame(sheet.values)\n",
    "dat = dat.rename(columns=dat.iloc[0]).drop([0])\n",
    "df =  dat[dat['Type']=='Storyline'][['Indicator', 'Sender email', 'Sender_name', 'Sender_agency', 'File name']]\n",
    "\n",
    "# Drop duplicates with the same indicator, sender email, sender name and sender agency\n",
    "df.drop_duplicates(keep = 'last', inplace = True)\n",
    "\n",
    "# Keep the row that contains sender_agency: World Bank (the first one) and remove the second one (UNDRR)\n",
    "df = df.drop(510)\n",
    "df "
   ]
  },
  {
   "cell_type": "code",
   "execution_count": 4,
   "metadata": {},
   "outputs": [],
   "source": [
    "# Extract the storyline from the word document\n",
    "\n",
    "def extract_doc(new_doc, file_name, indicator, sender_name, sender_agency, sender_email, not_standard_format_files_list):\n",
    "\n",
    "    docx_dict = {}\n",
    "    index = 0\n",
    "    document = Document(file_name)\n",
    "    \n",
    "    words = '2-4 sentences with summary of main findings and supporting data:'\n",
    "    condition = False\n",
    "    text = []\n",
    "    for para in document.paragraphs:\n",
    "        if words in para.text:\n",
    "            condition = True\n",
    "        if condition: \n",
    "            text = np.append(text, para.text).tolist()\n",
    "    while '' in text:\n",
    "        text.remove('')\n",
    "    \n",
    "\n",
    "    if len(text) != 0:\n",
    "        storyline = text[1]\n",
    "        # Add the name, sender name, email and agency \n",
    "        title = indicator + \" | Submitted by: \"  + sender_name + ', ' + sender_agency + ' (' + sender_email + ')'\n",
    "        # Write the context into the document\n",
    "        new_doc.add_paragraph(title, style = \"Heading 3\")\n",
    "        new_doc.add_paragraph(storyline)\n",
    "    \n",
    "    else:\n",
    "        not_standard_format_files_list = np.append(not_standard_format_files_list, file_name)\n",
    "\n",
    "    return not_standard_format_files_list "
   ]
  },
  {
   "cell_type": "code",
   "execution_count": 5,
   "metadata": {},
   "outputs": [],
   "source": [
    "# Get the name of the files, sender emails, sender names, and sender agency\n",
    "indicators = df['Indicator'].tolist()\n",
    "file_name = df['File name'].tolist()\n",
    "sender_names = df['Sender_name'].tolist()\n",
    "sender_emails = df['Sender email'].tolist()\n",
    "agencies = df['Sender_agency'].tolist()"
   ]
  },
  {
   "cell_type": "code",
   "execution_count": 6,
   "metadata": {},
   "outputs": [],
   "source": [
    "# Extract the information and save it to the document\n",
    "new_doc = Document()\n",
    "not_standard_format_files_list = []\n",
    "for filename in os.listdir():\n",
    "    for name in file_name: \n",
    "        if name == filename:\n",
    "            idx = file_name.index(name)\n",
    "            sender_name = sender_names[idx]\n",
    "            email = sender_emails[idx]\n",
    "            agency = agencies[idx]\n",
    "            indicator = indicators[idx]\n",
    "            not_standard_format_files_list = extract_doc(new_doc, filename, indicator, sender_name, agency, email, not_standard_format_files_list)\n",
    "            \n",
    "        \n",
    "# Save the new document\n",
    "new_doc.save('output.docx')"
   ]
  },
  {
   "cell_type": "markdown",
   "metadata": {},
   "source": [
    "### Word Documents Not Followed Standard Format"
   ]
  },
  {
   "cell_type": "code",
   "execution_count": 7,
   "metadata": {},
   "outputs": [
    {
     "data": {
      "text/plain": [
       "array(['s_7.1.2_WHO_2021.03.04.docx'], dtype='<U32')"
      ]
     },
     "execution_count": 7,
     "metadata": {},
     "output_type": "execute_result"
    }
   ],
   "source": [
    "not_standard_format_files_list"
   ]
  }
 ],
 "metadata": {
  "kernelspec": {
   "display_name": "Python 3",
   "language": "python",
   "name": "python3"
  },
  "language_info": {
   "codemirror_mode": {
    "name": "ipython",
    "version": 3
   },
   "file_extension": ".py",
   "mimetype": "text/x-python",
   "name": "python",
   "nbconvert_exporter": "python",
   "pygments_lexer": "ipython3",
   "version": "3.8.5"
  }
 },
 "nbformat": 4,
 "nbformat_minor": 4
}
